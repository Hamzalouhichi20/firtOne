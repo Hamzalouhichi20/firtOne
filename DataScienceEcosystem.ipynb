{
 "cells": [
  {
   "cell_type": "markdown",
   "id": "5dfb59a6-f8f3-43e2-ab20-44e42f2f5350",
   "metadata": {},
   "source": [
    "Data Science Tools and Ecosystem"
   ]
  },
  {
   "cell_type": "markdown",
   "id": "6097d99d-ad5d-4372-b6f3-dd788552bfb8",
   "metadata": {},
   "source": [
    "In this notebook, Data Science Tools and Ecosystem are summarized"
   ]
  },
  {
   "cell_type": "markdown",
   "id": "33120c55-7626-4e23-9b42-bab5c541aa53",
   "metadata": {},
   "source": [
    "Some of the popular languages that Data Scientists use are:"
   ]
  },
  {
   "cell_type": "code",
   "execution_count": 2,
   "id": "6c795379-2be7-4b12-8d3f-6051f5cc47e2",
   "metadata": {},
   "outputs": [],
   "source": [
    "List = [\"python\", \"R\", \"SQL\"]"
   ]
  },
  {
   "cell_type": "code",
   "execution_count": 3,
   "id": "b4b8db02-171e-42ac-a98f-fe23c83e2822",
   "metadata": {},
   "outputs": [],
   "source": [
    "List2 = [\"pyndas\", \"Seaborn\", \"matplotlib\", \"scikit_learn\"]"
   ]
  },
  {
   "cell_type": "markdown",
   "id": "63011516-b411-4e7b-9412-406bfce9f64f",
   "metadata": {},
   "source": [
    "Below are a few examples of evaluating arithmetic expressions in Python"
   ]
  },
  {
   "cell_type": "code",
   "execution_count": 4,
   "id": "ab4870fe-324e-4bc0-90ee-dfabcffe7ba4",
   "metadata": {},
   "outputs": [
    {
     "data": {
      "text/plain": [
       "17"
      ]
     },
     "execution_count": 4,
     "metadata": {},
     "output_type": "execute_result"
    }
   ],
   "source": [
    "#This a simple arithmetic expression to mutiply then add integers\n",
    "(3*4)+5"
   ]
  },
  {
   "cell_type": "code",
   "execution_count": 5,
   "id": "12cc846d-e222-4f1c-a4bb-5b8b571b0cb6",
   "metadata": {
    "tags": []
   },
   "outputs": [
    {
     "data": {
      "text/plain": [
       "3.3333333333333335"
      ]
     },
     "execution_count": 5,
     "metadata": {},
     "output_type": "execute_result"
    }
   ],
   "source": [
    "#This will convert 200 minutes to hours by diving by 60\n",
    "200/60"
   ]
  },
  {
   "cell_type": "markdown",
   "id": "779f54d5-cc30-4a8d-9525-44f966721215",
   "metadata": {
    "tags": []
   },
   "source": [
    "Objectives:List popular languages for Data Science"
   ]
  },
  {
   "cell_type": "markdown",
   "id": "656e8dff-c8ea-4e21-a0c5-df098e2e22f2",
   "metadata": {},
   "source": [
    "<H2>Author</H2> : \n",
    "Hamza louhichi"
   ]
  }
 ],
 "metadata": {
  "kernelspec": {
   "display_name": "Python",
   "language": "python",
   "name": "conda-env-python-py"
  },
  "language_info": {
   "codemirror_mode": {
    "name": "ipython",
    "version": 3
   },
   "file_extension": ".py",
   "mimetype": "text/x-python",
   "name": "python",
   "nbconvert_exporter": "python",
   "pygments_lexer": "ipython3",
   "version": "3.7.12"
  }
 },
 "nbformat": 4,
 "nbformat_minor": 5
}
